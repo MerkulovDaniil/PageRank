{
 "cells": [
  {
   "cell_type": "markdown",
   "metadata": {
    "nbpresent": {
     "id": "56675312-ffc6-432a-a263-048a433af602"
    }
   },
   "source": [
    "<p><span style=\"font-size:48px\"><font color=\"#4b0082\" face=\"verdana, geneva, sans-serif\">PageRank project</font></span></p>\n",
    "\n",
    "<hr />\n",
    "<h2><span style=\"font-family:verdana,geneva,sans-serif\"><span style=\"font-size:24px\"><font color=\"#4b0082\">Merkulov Daniil</font></span></span></h2>\n",
    "\n",
    "<h3><span style=\"font-size:20px\"><span style=\"font-family:verdana,geneva,sans-serif\"><font color=\"#4b0082\">Skoltech, 2016</font></span></span></h3>\n",
    "\n",
    "<h4><span style=\"font-size:16px\"><span style=\"font-family:verdana,geneva,sans-serif\">Convex Optimization for Data Science (Alexander Gasnikov, Andrey Tremba)</span></span></h4>\n",
    "\n",
    "<hr />\n",
    "<p>&nbsp;</p>\n"
   ]
  },
  {
   "cell_type": "markdown",
   "metadata": {
    "nbpresent": {
     "id": "9d17152e-12c2-4cb7-87fc-20a1089ca0e3"
    }
   },
   "source": [
    "# 1. Introduction (theory)"
   ]
  },
  {
   "cell_type": "markdown",
   "metadata": {
    "nbpresent": {
     "id": "eef8f849-73b4-4ebc-91a2-dff2753d3e74"
    }
   },
   "source": [
    "### 1.1 Problem\n",
    "http://www.math.cornell.edu/~mec/Winter2009/RalucaRemus/Lecture3/lecture3.html\n",
    "\n",
    "#### Background\n",
    "We live in a XXI century and information is a cornerstone of majority of spheres in our daily life. When we want to find useful information, we just go to our favorite Internet search engine and type a key words. Than, search engine provides us with some kind of relevent information. But how to ensure relevancy of this information?\n",
    "\n",
    "The naive approach is following: we just measure frequency of key word in each page in the Network. The more appearing frequency of key word we have, the higher position this site will gain. Definetely, this approach has obvious disadvantages, but there was the situation in text search in early 90s.\n",
    "\n",
    "#### PageRank\n",
    "\n",
    "Here we can see simple example. Imagine, that we have 4 websites with some links. Our goal is to understand some kind of **importance** of each website. Obviously, we can reformulate such problum in terms of directed graphs. Here, each node is website and each directed vertice describes link from one site to another.\n",
    "\n",
    "<img width=64% src=\"Graphics/PR3.bmp\"/>\n",
    "\n",
    "In PageRank model each node should transfer their importance through their outcoming vertices. Suppose, each website has total importance equal to $1$\n",
    "\n",
    "<img width=32% src=\"Graphics/PR2.bmp\"/>\n",
    "\n",
    "Thus, we can introduce transition matrix $A$:\n",
    "\n",
    "$$A = \\begin{pmatrix}\n",
    "0 & \\dfrac{1}{2} & 1 & \\dfrac{1}{3} \\\\\n",
    "1 & 0 & 0 & \\dfrac{1}{3} \\\\\n",
    "0 & 0 & 0 & \\dfrac{1}{3} \\\\\n",
    "0 & \\dfrac{1}{2} & 0 & 0\n",
    "\\end{pmatrix}$$\n",
    "\n",
    "Let us introduce **PageRank vector** $\\mathbf{x}$, which describes importance of each website. \n",
    "\n",
    "$$\\mathbf{x} = (x_1, x_2, x_3, x_4)^\\text{T},\\text{ where $x_i$ - importance of $i$-th website}$$\n",
    "\n",
    "Suppose, initial importance is uniformly distributed between all nodes. Than: \n",
    "\n",
    "$$\\mathbf{x}^0 = (0.25, 0.25, 0.25, 0.25)^\\text{T}$$\n",
    "\n",
    "Each incoming link increase importance of each node. So, this update can be expressed as a matrix multiplication:\n",
    "\n",
    "$$\\mathbf{x}^1 = A \\cdot \\mathbf{x}^0 = (0.46, 0.33, 0.08, 0.125)^\\text{T}$$\n",
    "\n",
    "Repeating the same operations we can easily see convergence:\n",
    "\n",
    "$$\\mathbf{x}^2 = A \\cdot \\mathbf{x}^1 = (0.29, 0.50, 0.04, 0.17)^\\text{T}$$\n",
    "\n",
    "$$\\mathbf{x}^3 = A \\cdot \\mathbf{x}^2 = (0.35, 0.35, 0.06, 0.25)^\\text{T}$$\n",
    "\n",
    "$$\\mathbf{x}^4 = A \\cdot \\mathbf{x}^3 = (0.31, 0.43, 0.08, 0.17)^\\text{T}$$\n",
    "\n",
    "$$\\mathbf{x}^5 = A \\cdot \\mathbf{x}^4 = (0.36, 0.37, 0.06, 0.22)^\\text{T}$$\n",
    "\n",
    "$$\\dots$$\n",
    "\n",
    "$$\\mathbf{x}^{14} = A \\cdot \\mathbf{x}^{13} = (0.33, 0.40, 0.07, 0.20)^\\text{T}$$\n",
    "\n",
    "$$\\mathbf{x}^{15} = A \\cdot \\mathbf{x}^{14} = (0.33, 0.40, 0.07, 0.20)^\\text{T}$$\n",
    "\n",
    "The code below could be used for playing with this simple example."
   ]
  },
  {
   "cell_type": "code",
   "execution_count": 19,
   "metadata": {
    "collapsed": false,
    "scrolled": true
   },
   "outputs": [
    {
     "name": "stdout",
     "output_type": "stream",
     "text": [
      "1 [ 0.45833333  0.33333333  0.08333333  0.125     ]\n",
      "2 [ 0.29166667  0.5         0.04166667  0.16666667]\n",
      "3 [ 0.34722222  0.34722222  0.05555556  0.25      ]\n",
      "4 [ 0.3125      0.43055556  0.08333333  0.17361111]\n",
      "5 [ 0.35648148  0.37037037  0.05787037  0.21527778]\n",
      "6 [ 0.31481481  0.42824074  0.07175926  0.18518519]\n",
      "7 [ 0.34760802  0.37654321  0.0617284   0.21412037]\n",
      "8 [ 0.32137346  0.41898148  0.07137346  0.1882716 ]\n",
      "9 [ 0.3436214   0.38413066  0.0627572   0.20949074]\n",
      "10 [ 0.32465278  0.41345165  0.06983025  0.19206533]\n",
      "11 [ 0.34057785  0.38867455  0.06402178  0.20672582]\n",
      "12 [ 0.32726766  0.40948645  0.06890861  0.19433728]\n",
      "13 [ 0.33843093  0.39204675  0.06477909  0.20474323]\n",
      "14 [ 0.32905021  0.40667867  0.06824774  0.19602338]\n",
      "15 [ 0.3369282   0.39439134  0.06534113  0.20333933]\n",
      "16 [ 0.33031657  0.40470798  0.06777978  0.19719567]\n",
      "17 [ 0.33586566  0.39604846  0.06573189  0.20235399]\n",
      "18 [ 0.33120745  0.40331699  0.06745133  0.19802423]\n",
      "19 [ 0.3351179   0.39721553  0.06600808  0.20165849]\n",
      "20 [ 0.33183534  0.4023374   0.0672195   0.19860776]\n"
     ]
    }
   ],
   "source": [
    "import numpy as np\n",
    "\n",
    "# Initializing:\n",
    "x_0 = np.array([0.25, 0.25, 0.25, 0.25])\n",
    "\n",
    "# Input matrix A:\n",
    "A = np.array([[0, 0.5, 1, 1/3], \n",
    "              [1, 0, 0, 1/3], \n",
    "              [0, 0, 0, 1/3], \n",
    "              [0, 0.5, 0, 0]])\n",
    "\n",
    "# PageRank iterations:\n",
    "# k - number of steps to obtain convergence:\n",
    "k = 20\n",
    "x_new = x_0\n",
    "for i in range(k):\n",
    "    x_old = x_new\n",
    "    x_new = np.dot(A, x_old)\n",
    "    print (i+1, x_new)"
   ]
  },
  {
   "cell_type": "markdown",
   "metadata": {},
   "source": [
    "### 1.2 Mathematical formulation\n",
    "Consider a directed graph $G$, our problem is to find such $\\mathbf{x}^{*}$, that: \n",
    "\n",
    "$$A \\cdot \\mathbf{x}^{*} =\\mathbf{x}^{*} \\;\\;\\;\\;\\;\\;\\;\\;\\;\\;\\; (1)$$\n",
    "\n",
    "Where $A$ is a matrix, which describes graph: $A_{i,j} \\ge 0 , \\forall i,j$ and $ \\sum\\limits_{i = 1}^{n} A_{i,j} = 1$ (A is *column-stochastic* matrix)\n",
    "\n",
    "It is important to mention, that $A$ is usually *sparse*.\n",
    "\n",
    "#### Linear Algebra\n",
    "\n",
    "Finding importance of webpages is equivalent to solving system of equations:\n",
    "\n",
    "$$\\begin{pmatrix}\n",
    "0 & \\dfrac{1}{2} & 1 & \\dfrac{1}{3} \\\\\n",
    "1 & 0 & 0 & \\dfrac{1}{3} \\\\\n",
    "0 & 0 & 0 & \\dfrac{1}{3} \\\\\n",
    "0 & \\dfrac{1}{2} & 0 & 0\n",
    "\\end{pmatrix} \\cdot \\begin{pmatrix}\n",
    "x_1 \\\\\n",
    "x_2 \\\\\n",
    "x_3 \\\\\n",
    "x_4\n",
    "\\end{pmatrix} = \\begin{pmatrix}\n",
    "x_1 \\\\\n",
    "x_2 \\\\\n",
    "x_3 \\\\\n",
    "x_4\n",
    "\\end{pmatrix}$$\n",
    "\n",
    "Or, to find eigenvector of matrix $A$, corresponding to unit eigenvalue.\n",
    "\n",
    "Also, there is a linear system formulation! Firstly, we should find such $\\hat{x}$:\n",
    "\n",
    "$$ \\left( A - I\\right) \\cdot \\begin{bmatrix}\n",
    "\\hat{x} \\\\\n",
    "1\n",
    "\\end{bmatrix} = 0$$\n",
    "\n",
    "Then, we could take \\mathbf{x}^{*} as a solution:\n",
    "\n",
    "$$\\mathbf{x}^{*} = \\dfrac{\\begin{bmatrix}\n",
    "\\hat{x} \\\\\n",
    "1\n",
    "\\end{bmatrix}}{\\left\\| \\begin{bmatrix}\n",
    "\\hat{x} \\\\\n",
    "1\n",
    "\\end{bmatrix}\\right\\|_1}$$\n",
    "\n",
    "#### Probability\n",
    "\n",
    "Since the importance of a web page is measured by its popularity (how many incoming links it has), we can view the importance of page $i$ as the probability that a random surfer on the Internet that opens a browser to any page and starts following hyperlinks, visits the page $i$. We can interpret the weights we assigned to the edges of the graph in a probabilistic way: A random surfer that is currently viewing web page $2$, has $\\frac{1}{2}$ probability to go to page 1, and $\\frac{1}{2}$ probability to go to page 4. We can model the process as a random walk on graphs. Each page has equal probability $\\frac{1}{4}$ to be chosen as a starting point. So, the initial probability distribution is given by the column vector $(\\frac{1}{4}, \\frac{1}{4}, \\frac{1}{4}, \\frac{1}{4})^\\text{T}$. \n",
    "\n",
    "The probability that page $i$ will be visited after one step is equal to $A \\cdot \\mathbf{x}$, and so on. The probability that page $i$ will be visited after $k$ steps is equal to $A^k \\cdot \\mathbf{x}$. The sequence $A \\cdot \\mathbf{x}, A^2 \\cdot \\mathbf{x}, A^3 \\cdot \\mathbf{x}, ..., A^k \\cdot \\mathbf{x}, \\dots$ converges in this case to a unique probabilistic vector $\\mathbf{x}^*$. In this context $\\mathbf{x}^*$ is called the **stationary distribution** and it will be our Page Rank vector. Moreover, the $i$-th entry in the vector $\\mathbf{x}^*$ is simply the probability that at each moment a random surfer visits page $i$. The computations are identical to the ones we did in the dynamical systems interpretation, only the meaning we attribute to each step being slightly different.\n",
    "\n",
    "#### Optimization\n",
    "We can solve problem (1) as an optimization problem: finding closest solution, which satisfy some criteria:\n",
    "\n",
    "$$\\mathbf{x}^{*} = \\underset{\\mathbf{x} \\in S^n}{\\operatorname{argmin}} \\lVert A\\mathbf{x} - \\mathbf{x} \\rVert_2 = \\underset{\\mathbf{x} \\in S^n}{\\operatorname{argmin}} \\lVert A\\mathbf{x} - \\mathbf{x} \\rVert_2^2$$\n",
    "\n",
    "Where $S^n$ - is a unit simplex ($S^n = \\{x: \\sum\\limits_{i = 1}^n x_i = 1, x_i \\ge 0 \\}$)\n",
    "\n",
    "#### Problems :(\n",
    "\n",
    "Dangling nodes (image, how to fix)\n",
    "\n",
    "Disconnected components (image, how to fix(Page - Brin solution, Robust PageRank))\n",
    "\n",
    "##### Perron-Frobenius Theorem\n",
    "\n",
    "If $A$ is a positive, column stochastic matrix, then:\n",
    "\n",
    "1) $1$ is an eigenvalue of multiplicity one.\n",
    "\n",
    "2) $1$ is the largest eigenvalue: all the other eigenvalues have absolute value smaller than $1$.\n",
    "\n",
    "3) The eigenvectors corresponding to the eigenvalue $1$ have either only positive entries or only negative entries. In particular, for the eigenvalue $1$ there exists a unique eigenvector with the sum of its entries equal to $1$.\n",
    "\n",
    "##### Power Method Convergence Theorem\n"
   ]
  },
  {
   "cell_type": "markdown",
   "metadata": {
    "nbpresent": {
     "id": "2cc8bc86-2a9c-4c7e-9295-3e9b872e3785"
    }
   },
   "source": [
    "### 1.3 Input Data"
   ]
  },
  {
   "cell_type": "markdown",
   "metadata": {
    "nbpresent": {
     "id": "7613362a-4993-482b-b761-408f3dd5d118"
    }
   },
   "source": [
    "### 1.4 Frank–Wolfe algorithm\n",
    "\n",
    "Frank-Wolfe algorithm solves convex optimization problem: \n",
    "\n",
    "$$\\mathbf{x}^{*} = \\underset{\\mathbf{x} \\in S^n}{\\operatorname{argmin}} \\lVert A\\mathbf{x} - \\mathbf{x} \\rVert_2^2$$\n",
    "\n",
    "doing following steps:\n",
    "\n",
    "$$x^{k+1} = \\dfrac{k-1}{k+1} x^k + \\dfrac{2}{k+1} y^k,\\;\\;\\;\\;\\;\\;\\;\\;\\;\\; \\text{where $y_k$ computes:} \\;\\;\\; \n",
    "y_k = \\underset{\\mathbf{x} \\in S^n}{\\operatorname{argmin}} (\\nabla f(x^k), \\mathbf{x})$$"
   ]
  },
  {
   "cell_type": "markdown",
   "metadata": {
    "nbpresent": {
     "id": "31e64176-50b1-4055-b973-f2a5f1201746"
    }
   },
   "source": [
    "# 2. Implementation"
   ]
  },
  {
   "cell_type": "code",
   "execution_count": null,
   "metadata": {
    "collapsed": true
   },
   "outputs": [],
   "source": [
    "1. Прочитать матрицу A из файла и пригнать её в удобоваримый вид (как в модели PageRank)\n",
    "2. Заимплементить верификацию column stochastic, вывод размерности матрицы, объем памяти, который она занимает, срез NxN первых элементов\n",
    "3. Power Method из домашки Oseledets"
   ]
  },
  {
   "cell_type": "markdown",
   "metadata": {
    "nbpresent": {
     "id": "73700702-3a91-49c6-b24e-4eff98fbdf9d"
    }
   },
   "source": [
    "# 3. Results"
   ]
  },
  {
   "cell_type": "code",
   "execution_count": null,
   "metadata": {
    "collapsed": false,
    "nbpresent": {
     "id": "0925bdbb-b9b0-4152-8cdd-0359af3acb31"
    }
   },
   "outputs": [],
   "source": []
  },
  {
   "cell_type": "code",
   "execution_count": 10,
   "metadata": {
    "collapsed": false
   },
   "outputs": [
    {
     "data": {
      "text/plain": [
       "array([ 0.45833333,  0.33333333,  0.08333333,  0.125     ])"
      ]
     },
     "execution_count": 10,
     "metadata": {},
     "output_type": "execute_result"
    }
   ],
   "source": [
    "x_1"
   ]
  }
 ],
 "metadata": {
  "anaconda-cloud": {},
  "kernelspec": {
   "display_name": "Python [default]",
   "language": "python",
   "name": "python3"
  },
  "language_info": {
   "codemirror_mode": {
    "name": "ipython",
    "version": 3
   },
   "file_extension": ".py",
   "mimetype": "text/x-python",
   "name": "python",
   "nbconvert_exporter": "python",
   "pygments_lexer": "ipython3",
   "version": "3.5.2"
  },
  "nbpresent": {
   "slides": {
    "267fb9f9-c0cf-4849-b1b8-d223344540ea": {
     "id": "267fb9f9-c0cf-4849-b1b8-d223344540ea",
     "prev": null,
     "regions": {
      "d717c089-5965-4711-80e4-abd524a1c34a": {
       "attrs": {
        "height": 0.8,
        "width": 0.8,
        "x": 0.1,
        "y": 0.1
       },
       "content": {
        "cell": "56675312-ffc6-432a-a263-048a433af602",
        "part": "whole"
       },
       "id": "d717c089-5965-4711-80e4-abd524a1c34a"
      }
     }
    },
    "4aed8847-f1c4-4cb0-9ba6-7f4d9fe94950": {
     "id": "4aed8847-f1c4-4cb0-9ba6-7f4d9fe94950",
     "prev": "a65b5325-3992-47c9-91df-1f6992486582",
     "regions": {
      "1a7fe965-2c82-46a2-84ba-3b4462bd29c4": {
       "attrs": {
        "height": 0.8,
        "width": 0.8,
        "x": 0.1,
        "y": 0.1
       },
       "content": {
        "cell": "73700702-3a91-49c6-b24e-4eff98fbdf9d",
        "part": "whole"
       },
       "id": "1a7fe965-2c82-46a2-84ba-3b4462bd29c4"
      }
     }
    },
    "5ab2c855-0f60-45d6-bfc1-cc5b9d030008": {
     "id": "5ab2c855-0f60-45d6-bfc1-cc5b9d030008",
     "prev": "c500eac8-b39d-4e0c-8f37-96ffcd05dae0",
     "regions": {
      "9709fe6b-2a24-4e6d-bbd7-1201a1f98675": {
       "attrs": {
        "height": 0.8,
        "width": 0.8,
        "x": 0.1,
        "y": 0.1
       },
       "content": {
        "cell": "bd84f1c8-fd3e-4b3d-a234-dcfe6760515e",
        "part": "whole"
       },
       "id": "9709fe6b-2a24-4e6d-bbd7-1201a1f98675"
      }
     }
    },
    "7e07abc2-a49d-4ef2-8bb2-6d841bc16f95": {
     "id": "7e07abc2-a49d-4ef2-8bb2-6d841bc16f95",
     "prev": "9f59070a-a756-4865-bdc4-1a5dcec81375",
     "regions": {
      "50d88ee5-4e98-4c82-99d5-4b5bab36b108": {
       "attrs": {
        "height": 0.8,
        "width": 0.8,
        "x": 0.1,
        "y": 0.1
       },
       "content": {
        "cell": "31e64176-50b1-4055-b973-f2a5f1201746",
        "part": "whole"
       },
       "id": "50d88ee5-4e98-4c82-99d5-4b5bab36b108"
      }
     }
    },
    "9f59070a-a756-4865-bdc4-1a5dcec81375": {
     "id": "9f59070a-a756-4865-bdc4-1a5dcec81375",
     "prev": "e6d7590a-f586-4043-be23-2e3b4cf6d829",
     "regions": {
      "9f6182bd-6727-45eb-bd7a-1e00023a56e0": {
       "attrs": {
        "height": 0.8,
        "width": 0.8,
        "x": 0.1,
        "y": 0.1
       },
       "content": {
        "cell": "7613362a-4993-482b-b761-408f3dd5d118",
        "part": "whole"
       },
       "id": "9f6182bd-6727-45eb-bd7a-1e00023a56e0"
      }
     }
    },
    "a65b5325-3992-47c9-91df-1f6992486582": {
     "id": "a65b5325-3992-47c9-91df-1f6992486582",
     "prev": "a93f0d1f-a3fb-42c2-baee-099bad1cf0f9",
     "regions": {
      "bde2a729-4996-4c91-ba49-52d1b89abd53": {
       "attrs": {
        "height": 0.8,
        "width": 0.8,
        "x": 0.1,
        "y": 0.1
       },
       "content": {
        "cell": "78bd7092-4750-4d50-b57a-459659514b3e",
        "part": "whole"
       },
       "id": "bde2a729-4996-4c91-ba49-52d1b89abd53"
      }
     }
    },
    "a93f0d1f-a3fb-42c2-baee-099bad1cf0f9": {
     "id": "a93f0d1f-a3fb-42c2-baee-099bad1cf0f9",
     "prev": "7e07abc2-a49d-4ef2-8bb2-6d841bc16f95",
     "regions": {
      "7cd1590c-9d6e-4a6e-911c-aecf37e421ab": {
       "attrs": {
        "height": 0.8,
        "width": 0.8,
        "x": 0.1,
        "y": 0.1
       },
       "content": {
        "cell": "15bb3c62-77dd-4a71-9499-d1f2fa69fa9f",
        "part": "whole"
       },
       "id": "7cd1590c-9d6e-4a6e-911c-aecf37e421ab"
      }
     }
    },
    "c500eac8-b39d-4e0c-8f37-96ffcd05dae0": {
     "id": "c500eac8-b39d-4e0c-8f37-96ffcd05dae0",
     "prev": "267fb9f9-c0cf-4849-b1b8-d223344540ea",
     "regions": {
      "ee43a62f-fb70-4d08-8f9a-c56a50a1b51d": {
       "attrs": {
        "height": 0.8,
        "width": 0.8,
        "x": 0.1,
        "y": 0.1
       },
       "content": {
        "cell": "9d17152e-12c2-4cb7-87fc-20a1089ca0e3",
        "part": "whole"
       },
       "id": "ee43a62f-fb70-4d08-8f9a-c56a50a1b51d"
      }
     }
    },
    "e6d7590a-f586-4043-be23-2e3b4cf6d829": {
     "id": "e6d7590a-f586-4043-be23-2e3b4cf6d829",
     "prev": "e7453d8a-cb88-40b6-b00a-536235237d93",
     "regions": {
      "03a5d1b4-68d0-4806-a441-57be1f65e410": {
       "attrs": {
        "height": 0.8,
        "width": 0.8,
        "x": 0.1,
        "y": 0.1
       },
       "content": {
        "cell": "2cc8bc86-2a9c-4c7e-9295-3e9b872e3785",
        "part": "whole"
       },
       "id": "03a5d1b4-68d0-4806-a441-57be1f65e410"
      }
     }
    },
    "e7453d8a-cb88-40b6-b00a-536235237d93": {
     "id": "e7453d8a-cb88-40b6-b00a-536235237d93",
     "prev": "5ab2c855-0f60-45d6-bfc1-cc5b9d030008",
     "regions": {
      "460147d8-06fc-4a6a-a287-3a5ec603fa65": {
       "attrs": {
        "height": 0.8,
        "width": 0.8,
        "x": 0.1,
        "y": 0.1
       },
       "content": {
        "cell": "eef8f849-73b4-4ebc-91a2-dff2753d3e74",
        "part": "whole"
       },
       "id": "460147d8-06fc-4a6a-a287-3a5ec603fa65"
      }
     }
    },
    "fe8c2a3b-d519-4fd8-90ba-01f2aaa68174": {
     "id": "fe8c2a3b-d519-4fd8-90ba-01f2aaa68174",
     "prev": "4aed8847-f1c4-4cb0-9ba6-7f4d9fe94950",
     "regions": {
      "7b7c996a-48aa-4861-8f3c-aba10033c902": {
       "attrs": {
        "height": 0.8,
        "width": 0.8,
        "x": 0.1,
        "y": 0.1
       },
       "content": {
        "cell": "0925bdbb-b9b0-4152-8cdd-0359af3acb31",
        "part": "whole"
       },
       "id": "7b7c996a-48aa-4861-8f3c-aba10033c902"
      }
     }
    }
   },
   "themes": {
    "default": "3d5c05f9-f46e-4f73-b484-1034ac6a5d25",
    "theme": {
     "3d5c05f9-f46e-4f73-b484-1034ac6a5d25": {
      "backgrounds": {
       "dc7afa04-bf90-40b1-82a5-726e3cff5267": {
        "background-color": "31af15d2-7e15-44c5-ab5e-e04b16a89eff",
        "id": "dc7afa04-bf90-40b1-82a5-726e3cff5267"
       }
      },
      "id": "3d5c05f9-f46e-4f73-b484-1034ac6a5d25",
      "palette": {
       "19cc588f-0593-49c9-9f4b-e4d7cc113b1c": {
        "id": "19cc588f-0593-49c9-9f4b-e4d7cc113b1c",
        "rgb": [
         252,
         252,
         252
        ]
       },
       "31af15d2-7e15-44c5-ab5e-e04b16a89eff": {
        "id": "31af15d2-7e15-44c5-ab5e-e04b16a89eff",
        "rgb": [
         68,
         68,
         68
        ]
       },
       "50f92c45-a630-455b-aec3-788680ec7410": {
        "id": "50f92c45-a630-455b-aec3-788680ec7410",
        "rgb": [
         197,
         226,
         245
        ]
       },
       "c5cc3653-2ee1-402a-aba2-7caae1da4f6c": {
        "id": "c5cc3653-2ee1-402a-aba2-7caae1da4f6c",
        "rgb": [
         43,
         126,
         184
        ]
       },
       "efa7f048-9acb-414c-8b04-a26811511a21": {
        "id": "efa7f048-9acb-414c-8b04-a26811511a21",
        "rgb": [
         25.118061674008803,
         73.60176211453744,
         107.4819383259912
        ]
       }
      },
      "rules": {
       "a": {
        "color": "19cc588f-0593-49c9-9f4b-e4d7cc113b1c"
       },
       "blockquote": {
        "color": "50f92c45-a630-455b-aec3-788680ec7410",
        "font-size": 3
       },
       "code": {
        "font-family": "Anonymous Pro"
       },
       "h1": {
        "color": "19cc588f-0593-49c9-9f4b-e4d7cc113b1c",
        "font-family": "Merriweather",
        "font-size": 8
       },
       "h2": {
        "color": "19cc588f-0593-49c9-9f4b-e4d7cc113b1c",
        "font-family": "Merriweather",
        "font-size": 6
       },
       "h3": {
        "color": "50f92c45-a630-455b-aec3-788680ec7410",
        "font-family": "Lato",
        "font-size": 5.5
       },
       "h4": {
        "color": "c5cc3653-2ee1-402a-aba2-7caae1da4f6c",
        "font-family": "Lato",
        "font-size": 5
       },
       "h5": {
        "font-family": "Lato"
       },
       "h6": {
        "font-family": "Lato"
       },
       "h7": {
        "font-family": "Lato"
       },
       "li": {
        "color": "50f92c45-a630-455b-aec3-788680ec7410",
        "font-size": 3.25
       },
       "pre": {
        "font-family": "Anonymous Pro",
        "font-size": 4
       }
      },
      "text-base": {
       "color": "19cc588f-0593-49c9-9f4b-e4d7cc113b1c",
       "font-family": "Lato",
       "font-size": 4
      }
     }
    }
   }
  }
 },
 "nbformat": 4,
 "nbformat_minor": 1
}
